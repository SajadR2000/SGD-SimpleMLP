{
  "nbformat": 4,
  "nbformat_minor": 0,
  "metadata": {
    "kernelspec": {
      "display_name": "Python 3",
      "language": "python",
      "name": "python3"
    },
    "language_info": {
      "codemirror_mode": {
        "name": "ipython",
        "version": 3
      },
      "file_extension": ".py",
      "mimetype": "text/x-python",
      "name": "python",
      "nbconvert_exporter": "python",
      "pygments_lexer": "ipython3",
      "version": "3.7.3"
    },
    "toc": {
      "base_numbering": 1,
      "nav_menu": {},
      "number_sections": true,
      "sideBar": true,
      "skip_h1_title": false,
      "title_cell": "Table of Contents",
      "title_sidebar": "Contents",
      "toc_cell": true,
      "toc_position": {},
      "toc_section_display": true,
      "toc_window_display": true
    },
    "colab": {
      "name": "Problem1.ipynb",
      "provenance": [],
      "collapsed_sections": []
    }
  },
  "cells": [
    {
      "cell_type": "markdown",
      "metadata": {
        "toc": true,
        "id": "mgZXRxw5h85R"
      },
      "source": [
        "<h1>Table of Contents<span class=\"tocSkip\"></span></h1>\n",
        "<div class=\"toc\"><ul class=\"toc-item\"><li><span><a href=\"#Problem-1\" data-toc-modified-id=\"Problem-1-1\"><span class=\"toc-item-num\">1&nbsp;&nbsp;</span>Problem 1</a></span><ul class=\"toc-item\"><li><span><a href=\"#Import\" data-toc-modified-id=\"Import-1.1\"><span class=\"toc-item-num\">1.1&nbsp;&nbsp;</span>Import</a></span></li><li><span><a href=\"#Optimization\" data-toc-modified-id=\"Optimization-1.2\"><span class=\"toc-item-num\">1.2&nbsp;&nbsp;</span>Optimization</a></span><ul class=\"toc-item\"><li><span><a href=\"#Simple-SGD-optimization\" data-toc-modified-id=\"Simple-SGD-optimization-1.2.1\"><span class=\"toc-item-num\">1.2.1&nbsp;&nbsp;</span>Simple SGD optimization</a></span></li><li><span><a href=\"#SGD-with-momentum\" data-toc-modified-id=\"SGD-with-momentum-1.2.2\"><span class=\"toc-item-num\">1.2.2&nbsp;&nbsp;</span>SGD with momentum</a></span></li><li><span><a href=\"#Target-functions\" data-toc-modified-id=\"Target-functions-1.2.3\"><span class=\"toc-item-num\">1.2.3&nbsp;&nbsp;</span>Target functions</a></span></li><li><span><a href=\"#Plot-cost\" data-toc-modified-id=\"Plot-cost-1.2.4\"><span class=\"toc-item-num\">1.2.4&nbsp;&nbsp;</span>Plot cost</a></span></li><li><span><a href=\"#Parameters\" data-toc-modified-id=\"Parameters-1.2.5\"><span class=\"toc-item-num\">1.2.5&nbsp;&nbsp;</span>Parameters</a></span></li><li><span><a href=\"#Rosenbrock-function\" data-toc-modified-id=\"Rosenbrock-function-1.2.6\"><span class=\"toc-item-num\">1.2.6&nbsp;&nbsp;</span>Rosenbrock function</a></span></li><li><span><a href=\"#Powel-Function\" data-toc-modified-id=\"Powel-Function-1.2.7\"><span class=\"toc-item-num\">1.2.7&nbsp;&nbsp;</span>Powel Function</a></span></li><li><span><a href=\"#Question\" data-toc-modified-id=\"Question-1.2.8\"><span class=\"toc-item-num\">1.2.8&nbsp;&nbsp;</span>Question</a></span></li></ul></li><li><span><a href=\"#Regularization\" data-toc-modified-id=\"Regularization-1.3\"><span class=\"toc-item-num\">1.3&nbsp;&nbsp;</span>Regularization</a></span><ul class=\"toc-item\"><li><span><a href=\"#Parameters\" data-toc-modified-id=\"Parameters-1.3.1\"><span class=\"toc-item-num\">1.3.1&nbsp;&nbsp;</span>Parameters</a></span></li><li><span><a href=\"#Loading-dataset\" data-toc-modified-id=\"Loading-dataset-1.3.2\"><span class=\"toc-item-num\">1.3.2&nbsp;&nbsp;</span>Loading dataset</a></span></li><li><span><a href=\"#Objective-function\" data-toc-modified-id=\"Objective-function-1.3.3\"><span class=\"toc-item-num\">1.3.3&nbsp;&nbsp;</span>Objective function</a></span></li><li><span><a href=\"#Regularization-factor-=-0\" data-toc-modified-id=\"Regularization-factor-=-0-1.3.4\"><span class=\"toc-item-num\">1.3.4&nbsp;&nbsp;</span>Regularization factor = 0</a></span></li><li><span><a href=\"#Regularization-factor-=-0.001\" data-toc-modified-id=\"Regularization-factor-=-0.001-1.3.5\"><span class=\"toc-item-num\">1.3.5&nbsp;&nbsp;</span>Regularization factor = 0.001</a></span></li><li><span><a href=\"#Regularization-factor-=-0.01\" data-toc-modified-id=\"Regularization-factor-=-0.01-1.3.6\"><span class=\"toc-item-num\">1.3.6&nbsp;&nbsp;</span>Regularization factor = 0.01</a></span></li><li><span><a href=\"#Question\" data-toc-modified-id=\"Question-1.3.7\"><span class=\"toc-item-num\">1.3.7&nbsp;&nbsp;</span>Question</a></span></li></ul></li></ul></li></ul></div>"
      ]
    },
    {
      "cell_type": "markdown",
      "metadata": {
        "id": "bF7mj-h6h85Y"
      },
      "source": [
        "# Problem 1\n",
        "Please fill todo parts of this code. \n",
        "You can change any part of the code that you think it is needed but we do not suggest that. \n",
        "\n",
        "After you filled the todo parts please run the whole network one time and then upload your results. "
      ]
    },
    {
      "cell_type": "markdown",
      "metadata": {
        "id": "Aomg_Pv6h85Y"
      },
      "source": [
        "## Import \n",
        "Import your required libraries in this cell. \n",
        "\n",
        "**Note**: You cannot use torch.optim library in this problem. "
      ]
    },
    {
      "cell_type": "code",
      "metadata": {
        "id": "G_JHo8Azh85Z"
      },
      "source": [
        "import matplotlib.pyplot as plt\n",
        "import numpy as np\n",
        "import torch\n",
        "from pandas import read_csv"
      ],
      "execution_count": null,
      "outputs": []
    },
    {
      "cell_type": "markdown",
      "metadata": {
        "id": "n9Q2P_W7h85Z"
      },
      "source": [
        "## Optimization"
      ]
    },
    {
      "cell_type": "markdown",
      "metadata": {
        "id": "-tmrAKP_h85a"
      },
      "source": [
        "### Simple SGD optimization"
      ]
    },
    {
      "cell_type": "code",
      "metadata": {
        "id": "wjoN9Zyoh85a"
      },
      "source": [
        "def vanilla_sgd_optimization(func, input_dim, num_iteration, step_size):\n",
        "    '''\n",
        "    This function finds the local minimum of a function with vanilla sgd.\n",
        "    \n",
        "    Inputs:\n",
        "    func: target function\n",
        "    input_dim: dimension of the function input\n",
        "    num_iteration: number of iterations that sgd should be done. \n",
        "    step_size: size of the steps of the sgd\n",
        "    \n",
        "    Outputs:\n",
        "    x: the local minimum point of the function\n",
        "    func_value_list: list of values of the function in the sgd steps\n",
        "    '''\n",
        "    \n",
        "    x = torch.randn(input_dim, requires_grad=True)\n",
        "    func_value_list = []\n",
        "    for _ in range(num_iteration):\n",
        "        y = func(x)\n",
        "        func_value_list.append(y.data)\n",
        "        y.backward()\n",
        "        x.data -= step_size * x.grad\n",
        "        x.grad.zero_()\n",
        "        \n",
        "    return x, func_value_list"
      ],
      "execution_count": null,
      "outputs": []
    },
    {
      "cell_type": "markdown",
      "metadata": {
        "id": "KzT8juvBh85a"
      },
      "source": [
        "### SGD with momentum"
      ]
    },
    {
      "cell_type": "code",
      "metadata": {
        "id": "XuiY1BDfh85b"
      },
      "source": [
        "def momentum_sgd_optimization(func, input_dim, num_iteration, step_size, v=0, alpha=0.9):\n",
        "    '''\n",
        "    This function finds the local minimum of a function with momentum sgd.\n",
        "    \n",
        "    Inputs:\n",
        "    func: target function\n",
        "    input_dim: dimension of the function input\n",
        "    num_iteration: number of iterations that sgd should be done. \n",
        "    step_size: size of the steps of the sgd\n",
        "    v: initial velocity \n",
        "    alpha: momentum parameter\n",
        "    \n",
        "    Outputs:\n",
        "    x: the local minimum point of the function\n",
        "    func_value_list: list of values of the function in the sgd steps\n",
        "    '''\n",
        "    \n",
        "    x = torch.randn(input_dim, requires_grad=True)\n",
        "    func_value_list = []\n",
        "    for _ in range(num_iteration):\n",
        "        y = func(x)\n",
        "        # print('x = {} \\n'.format(x))\n",
        "        # print('y = {} \\n'.format(y))\n",
        "        func_value_list.append(y.data)\n",
        "        y.backward()\n",
        "        v = alpha * v - step_size * x.grad.data\n",
        "        # print('grad = {} \\n'.format(x.grad))\n",
        "        x.data += v\n",
        "        x.grad.zero_()\n",
        "\n",
        "    return x, func_value_list"
      ],
      "execution_count": null,
      "outputs": []
    },
    {
      "cell_type": "markdown",
      "metadata": {
        "id": "I7iQlKlih85b"
      },
      "source": [
        "### Target functions \n",
        "Implement these two functions:\n",
        "* Rosenbrock function: \n",
        "\\begin{equation}\n",
        "f(x) = 100(x_2 - x_1^2)^2 + (1 - x_2)^2\n",
        "\\end{equation}\n",
        "\n",
        "* Powel function: \n",
        "\\begin{equation}\n",
        "f(x) = (x_1 - 10x_2)^2 + 5(x_3 - x_4)^2 + (x_2 - 2x_3)^4 + 10(x_1 - x_4)^4\n",
        "\\end{equation}"
      ]
    },
    {
      "cell_type": "code",
      "metadata": {
        "id": "kdY7M-GYh85b"
      },
      "source": [
        "def rosen_brock_function(x):\n",
        "    f = 100 * (x[1] - x[0] ** 2) ** 2 + (1 - x[1]) ** 2\n",
        "    return f\n",
        "\n",
        "def powel_function(x):\n",
        "    f = (x[0] - 10 * x[1]) ** 2 + 5 * (x[2] - x[3]) ** 2 + (x[1] - 2 * x[2]) ** 4 + 10 * (x[0] - x[3]) ** 4\n",
        "    return f"
      ],
      "execution_count": null,
      "outputs": []
    },
    {
      "cell_type": "markdown",
      "metadata": {
        "id": "bxCHYreah85c"
      },
      "source": [
        "### Plot cost "
      ]
    },
    {
      "cell_type": "code",
      "metadata": {
        "id": "N909BG7Dh85c"
      },
      "source": [
        "def plot_function_value(vanilla_sgd_function_values, momentum_sgd_function_values):\n",
        "    plt.figure(figsize=(10, 8))\n",
        "    plt.plot(np.log(momentum_sgd_function_values), label='momentom')\n",
        "    plt.plot(np.log(vanilla_sgd_function_values), label='vanilla')\n",
        "    plt.legend(fontsize=14)\n",
        "    plt.xlabel('Iteration', fontsize=14)\n",
        "    plt.ylabel('Function value', fontsize=14)\n",
        "    plt.show()"
      ],
      "execution_count": null,
      "outputs": []
    },
    {
      "cell_type": "markdown",
      "metadata": {
        "id": "s7DsCyC_h85c"
      },
      "source": [
        "### Parameters \n",
        "**Note**: Use these parameters for this section and do not change them."
      ]
    },
    {
      "cell_type": "code",
      "metadata": {
        "id": "4rWzkZBsh85c"
      },
      "source": [
        "NUM_ITERATIONS = 10000\n",
        "STEP_SIZE = 1e-3\n",
        "ROSEN_BROCK_INPUT_DIM = 2\n",
        "POWEL_INPUT_DIM = 4"
      ],
      "execution_count": null,
      "outputs": []
    },
    {
      "cell_type": "markdown",
      "metadata": {
        "id": "zSys_GcSh85d"
      },
      "source": [
        "### Rosenbrock function"
      ]
    },
    {
      "cell_type": "code",
      "metadata": {
        "id": "ffp6BKSkh85d",
        "colab": {
          "base_uri": "https://localhost:8080/",
          "height": 536
        },
        "outputId": "244ea1d4-da17-4bfe-a4c1-bcab529ae906"
      },
      "source": [
        "# todo: fill function inputs\n",
        "vanilla_sgd_min_x, vanilla_sgd_function_values = vanilla_sgd_optimization(rosen_brock_function, ROSEN_BROCK_INPUT_DIM, NUM_ITERATIONS, STEP_SIZE)\n",
        "\n",
        "momentum_sgd_min_x, momentom_sgd_function_values = momentum_sgd_optimization(rosen_brock_function, ROSEN_BROCK_INPUT_DIM, NUM_ITERATIONS, STEP_SIZE)\n",
        "\n",
        "print('min of rosenbrock function with vanilla sgd is {}'.format(rosen_brock_function(vanilla_sgd_min_x)))\n",
        "print('min of rosenbrock function with momentum sgd is {}'.format(rosen_brock_function(momentum_sgd_min_x)))\n",
        "plot_function_value(vanilla_sgd_function_values, momentom_sgd_function_values)"
      ],
      "execution_count": null,
      "outputs": [
        {
          "output_type": "stream",
          "text": [
            "min of rosenbrock function with vanilla sgd is 4.3307935015945986e-10\n",
            "min of rosenbrock function with momentum sgd is 6.430411758628907e-13\n"
          ],
          "name": "stdout"
        },
        {
          "output_type": "display_data",
          "data": {
            "image/png": "[encoded data removed]",
            "text/plain": [
              "<Figure size 720x576 with 1 Axes>"
            ]
          },
          "metadata": {
            "tags": [],
            "needs_background": "light"
          }
        }
      ]
    },
    {
      "cell_type": "markdown",
      "metadata": {
        "id": "5ZpHteMhh85d"
      },
      "source": [
        "### Powel Function"
      ]
    },
    {
      "cell_type": "code",
      "metadata": {
        "id": "WX2le2GWh85d",
        "colab": {
          "base_uri": "https://localhost:8080/",
          "height": 536
        },
        "outputId": "8d386a2d-4521-4406-c90a-d295b1c90211"
      },
      "source": [
        "# todo: fill function inputs\n",
        "vanilla_sgd_min_x, vanilla_sgd_function_values = vanilla_sgd_optimization(powel_function, POWEL_INPUT_DIM, NUM_ITERATIONS, STEP_SIZE)\n",
        "\n",
        "momentum_sgd_min_x, momentom_sgd_function_values = momentum_sgd_optimization(powel_function, POWEL_INPUT_DIM, NUM_ITERATIONS, STEP_SIZE)\n",
        "\n",
        "print('min of powel function with vanilla sgd is {}'.format(powel_function(vanilla_sgd_min_x)))\n",
        "print('min of powel function with momentum sgd is {}'.format(powel_function(momentum_sgd_min_x)))\n",
        "plot_function_value(vanilla_sgd_function_values, momentom_sgd_function_values)"
      ],
      "execution_count": null,
      "outputs": [
        {
          "output_type": "stream",
          "text": [
            "min of powel function with vanilla sgd is 0.00015247306146193296\n",
            "min of powel function with momentum sgd is 2.3334077923209406e-06\n"
          ],
          "name": "stdout"
        },
        {
          "output_type": "display_data",
          "data": {
            "image/png": "[encoded data removed]",
            "text/plain": [
              "<Figure size 720x576 with 1 Axes>"
            ]
          },
          "metadata": {
            "tags": [],
            "needs_background": "light"
          }
        }
      ]
    },
    {
      "cell_type": "markdown",
      "metadata": {
        "id": "DdoCBezgh85e"
      },
      "source": [
        "### Question\n",
        "According to the above plots, what is the effect of momentum? "
      ]
    },
    {
      "cell_type": "markdown",
      "metadata": {
        "id": "ruXuoolDh85e"
      },
      "source": [
        "*Answer*: \n",
        "It accelerate the convergence process."
      ]
    },
    {
      "cell_type": "markdown",
      "metadata": {
        "id": "Jo8_0Hbjh85f"
      },
      "source": [
        "## Regularization"
      ]
    },
    {
      "cell_type": "markdown",
      "metadata": {
        "id": "tIs9i1VWh85f"
      },
      "source": [
        "### Parameters\n",
        "**Note**: Use this parameters for this section and do not change them."
      ]
    },
    {
      "cell_type": "code",
      "metadata": {
        "id": "hW51MerTh85f"
      },
      "source": [
        "feature_dim = 2\n",
        "train_ratio = 0.8\n",
        "NUM_ITERATIONS = 10000\n",
        "# NUM_ITERATIONS = 10\n",
        "STEP_SIZE = 1"
      ],
      "execution_count": null,
      "outputs": []
    },
    {
      "cell_type": "markdown",
      "metadata": {
        "id": "4Qps-T-Uh85f"
      },
      "source": [
        "### Loading dataset\n",
        "* Load the salary dataset. \n",
        "* Consider YearsExperience column as X and add one column of ones to it for bias. \n",
        "* Consider Salary column as Y.\n",
        "* Split X and Y to train and test. "
      ]
    },
    {
      "cell_type": "code",
      "metadata": {
        "id": "UdEmd-bzh85f"
      },
      "source": [
        "from sklearn.model_selection import train_test_split\r\n",
        "df = read_csv('Salary_Data.csv')\r\n",
        "X = np.concatenate((df[['YearsExperience']], np.ones((df.shape[0], 1))), axis=1)\r\n",
        "y = np.array(df['Salary'])\r\n",
        "train_x, test_x, train_y, test_y = train_test_split(X, y, test_size=(1 - train_ratio), shuffle=True)\r\n",
        "train_x = torch.tensor(train_x)\r\n",
        "train_y = torch.tensor(train_y)\r\n",
        "test_x = torch.tensor(test_x)\r\n",
        "test_y = torch.tensor(test_y)"
      ],
      "execution_count": null,
      "outputs": []
    },
    {
      "cell_type": "markdown",
      "metadata": {
        "id": "i-QleIg0h85g"
      },
      "source": [
        "### Objective function"
      ]
    },
    {
      "cell_type": "code",
      "metadata": {
        "id": "Z6vv2f8Eh85g"
      },
      "source": [
        "def linear_equation_error(x, y, w, reg_factor=0):\n",
        "    '''\n",
        "    This function should calculate the norm 2 of error of the linear equation.\n",
        "    Input: \n",
        "    x: feature vector (n_sample, feature_dim)\n",
        "    y: label vector (n_sample, 1)\n",
        "    w: weights (feature_dim, 1)\n",
        "    reg_factor: regularization factor. Note that for evaluation this parameter should be set to 0. \n",
        "    \n",
        "    Output: \n",
        "    loss: (norm2(y - x*w) + reg_factor*norm2(w))/n_sample\n",
        "    '''\n",
        "    w = w[:, None].double()\n",
        "    error = (torch.norm((y - torch.matmul(x, w))) + reg_factor * torch.norm(w)) / x.shape[0]\n",
        "    return error"
      ],
      "execution_count": null,
      "outputs": []
    },
    {
      "cell_type": "markdown",
      "metadata": {
        "id": "3muUVybNh85g"
      },
      "source": [
        "### Regularization factor = 0"
      ]
    },
    {
      "cell_type": "code",
      "metadata": {
        "id": "aFBbNUX-h85g",
        "colab": {
          "base_uri": "https://localhost:8080/"
        },
        "outputId": "9ad8e7ff-0fb0-4134-c43f-6e5436a60553"
      },
      "source": [
        "reg_factor = 0.0\n",
        "naive_linear_equation_error_handler = lambda w: linear_equation_error(train_x, train_y, w, reg_factor)\n",
        "\n",
        "# todo: fill function inputs\n",
        "naive_weights, naive_train_error = momentum_sgd_optimization(naive_linear_equation_error_handler, feature_dim, NUM_ITERATIONS, STEP_SIZE, 0, 0.9)\n",
        "print('train error without regularization: {}'.format(linear_equation_error(train_x, train_y, naive_weights, reg_factor)))\n",
        "print('test error without regularization: {}'.format(linear_equation_error(test_x, test_y, naive_weights, reg_factor)))"
      ],
      "execution_count": null,
      "outputs": [
        {
          "output_type": "stream",
          "text": [
            "train error without regularization: 33372.81823562635\n",
            "test error without regularization: 32890.49345818068\n"
          ],
          "name": "stdout"
        }
      ]
    },
    {
      "cell_type": "markdown",
      "metadata": {
        "id": "XiI_yx9gh85h"
      },
      "source": [
        "### Regularization factor = 0.001"
      ]
    },
    {
      "cell_type": "code",
      "metadata": {
        "id": "ekwdxKNih85h",
        "colab": {
          "base_uri": "https://localhost:8080/"
        },
        "outputId": "b9d0a949-0074-4fd6-f54a-e95ef8239194"
      },
      "source": [
        "reg_factor = 0.001\n",
        "\n",
        "regularized_linear_equation_error_handler = lambda w: linear_equation_error(train_x, \n",
        "                                                                            train_y,\n",
        "                                                                            w,\n",
        "                                                                            reg_factor)\n",
        "# todo: fill function inputs\n",
        "regularized_weights, regularized_train_error = momentum_sgd_optimization(regularized_linear_equation_error_handler, feature_dim, NUM_ITERATIONS, STEP_SIZE, 0, 0.9)\n",
        "\n",
        "print('train error with regularization: {}'.format(linear_equation_error(train_x, train_y, regularized_weights, reg_factor)))\n",
        "print('test error with regularization: {}'.format(linear_equation_error(test_x, test_y, regularized_weights, reg_factor)))"
      ],
      "execution_count": null,
      "outputs": [
        {
          "output_type": "stream",
          "text": [
            "train error with regularization: 33374.24429922869\n",
            "test error with regularization: 32896.2385274014\n"
          ],
          "name": "stdout"
        }
      ]
    },
    {
      "cell_type": "markdown",
      "metadata": {
        "id": "8dmgh6eHh85h"
      },
      "source": [
        "### Regularization factor = 0.01"
      ]
    },
    {
      "cell_type": "code",
      "metadata": {
        "scrolled": true,
        "id": "rME-HVkZh85h",
        "colab": {
          "base_uri": "https://localhost:8080/"
        },
        "outputId": "6bcea086-4ae0-4bf2-c687-1cf3fc49f91c"
      },
      "source": [
        "reg_factor = 0.01\n",
        "\n",
        "regularized_linear_equation_error_handler = lambda w: linear_equation_error(train_x, \n",
        "                                                                            train_y,\n",
        "                                                                            w,\n",
        "                                                                            reg_factor)\n",
        "# todo: fill function inputs\n",
        "regularized_weights, regularized_train_error = momentum_sgd_optimization(regularized_linear_equation_error_handler, feature_dim, NUM_ITERATIONS, STEP_SIZE, 0, 0.9)\n",
        "\n",
        "print('train error with regularization: {}'.format(linear_equation_error(train_x, train_y, regularized_weights, reg_factor)))\n",
        "print('test error with regularization: {}'.format(linear_equation_error(test_x, test_y, regularized_weights, reg_factor)))"
      ],
      "execution_count": null,
      "outputs": [
        {
          "output_type": "stream",
          "text": [
            "train error with regularization: 33394.186244197954\n",
            "test error with regularization: 32953.814634103204\n"
          ],
          "name": "stdout"
        }
      ]
    },
    {
      "cell_type": "markdown",
      "metadata": {
        "id": "__CS-Dtfh85h"
      },
      "source": [
        "### Question \n",
        "* What is the effect of regularization?\n",
        "* What is the effect of size of regularization term?"
      ]
    },
    {
      "cell_type": "markdown",
      "metadata": {
        "id": "llAuxkO_h85i"
      },
      "source": [
        "Answer: It prevents overfitting by reducing the norm of w. As we increase the regularization term the optimizer tends to reduce the norm of w more and if we set the size a great number, it may result in underfitting."
      ]
    },
    {
      "cell_type": "code",
      "metadata": {
        "id": "bMfqMvMdO55n"
      },
      "source": [
        ""
      ],
      "execution_count": null,
      "outputs": []
    }
  ]
}