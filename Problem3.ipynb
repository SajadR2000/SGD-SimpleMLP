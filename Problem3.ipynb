{
  "nbformat": 4,
  "nbformat_minor": 0,
  "metadata": {
    "colab": {
      "name": "Problem3.ipynb",
      "provenance": [],
      "collapsed_sections": [],
      "toc_visible": true
    },
    "kernelspec": {
      "name": "python3",
      "display_name": "Python 3"
    }
  },
  "cells": [
    {
      "cell_type": "markdown",
      "metadata": {
        "id": "4xT7wrj3KQdt"
      },
      "source": [
        "**Denoising by AEs**"
      ]
    },
    {
      "cell_type": "code",
      "metadata": {
        "id": "cngHJz2vJl5G"
      },
      "source": [
        "###Add python library here####\n",
        "import torch\n",
        "from torch.autograd import Variable\n",
        "import torch.nn as nn\n",
        "import torch.nn.functional as F\n",
        "import torchvision.transforms as transforms\n",
        "import torchvision.datasets as dsets\n",
        "import matplotlib.pyplot as plt\n",
        "import numpy as np\n",
        "%matplotlib inline\n",
        "figsize=(15, 6)\n",
        "plt.style.use('fivethirtyeight')"
      ],
      "execution_count": 1,
      "outputs": []
    },
    {
      "cell_type": "markdown",
      "metadata": {
        "id": "wdyGzMH-LQcS"
      },
      "source": [
        "**Loading dataset**"
      ]
    },
    {
      "cell_type": "code",
      "metadata": {
        "id": "I4bkzgoSKyl-"
      },
      "source": [
        "# Fashion-MNIST data loader\n",
        "\n",
        "batch_size = 128\n",
        "n_iters = 10000\n",
        "\n",
        "img_transform = transforms.Compose([\n",
        "    transforms.ToTensor(),\n",
        "    transforms.Normalize(0.5, 0.5)\n",
        "])\n",
        "\n",
        "train_dataset = dsets.FashionMNIST(root='./data',\n",
        "                                   train=True,\n",
        "                                   transform=img_transform,\n",
        "                                   download=True)\n",
        "\n",
        "test_dataset = dsets.FashionMNIST(root='./data',\n",
        "                                  train=False,\n",
        "                                  transform=img_transform)\n",
        "\n",
        "train_loader = torch.utils.data.DataLoader(dataset=train_dataset, \n",
        "                                           batch_size=batch_size, \n",
        "                                           shuffle=True)\n",
        "\n",
        "test_loader = torch.utils.data.DataLoader(dataset=test_dataset, \n",
        "                                          batch_size=batch_size, \n",
        "                                          shuffle=False)\n",
        "\n",
        "num_epochs = n_iters / (len(train_dataset) / batch_size)\n",
        "num_epochs = int(num_epochs)"
      ],
      "execution_count": 2,
      "outputs": []
    },
    {
      "cell_type": "markdown",
      "metadata": {
        "id": "j7mf5NaDLmr4"
      },
      "source": [
        "**Autoencoder architecture**"
      ]
    },
    {
      "cell_type": "code",
      "metadata": {
        "id": "GlgNKHadKyrR"
      },
      "source": [
        "class autoencoder(nn.Module):\n",
        "    def __init__(self):\n",
        "        super(autoencoder, self).__init__()\n",
        "        ###TODO###\n",
        "        self.encoder = nn.Sequential(*[\n",
        "                                       nn.Linear(28*28, 256),\n",
        "                                       nn.ReLU(True),\n",
        "                                       nn.Linear(256, 128),\n",
        "                                       nn.Tanh()\n",
        "                                       nn.Linear(128, 16),\n",
        "                                       nn.Tanh()\n",
        "        ])\n",
        "        self.decoder = nn.Sequential(*[\n",
        "                                       nn.Linear(16, 128),\n",
        "                                       nn.Tanh()\n",
        "                                       nn.Linear(128, 256),\n",
        "                                       nn.Tanh(),\n",
        "                                       nn.Linear(256, 28*28),\n",
        "                                       nn.Sigmoid()\n",
        "         ])\n",
        "\n",
        "    def forward(self, x):\n",
        "        y = self.encoder(x)\n",
        "        z = self.decoder(y)\n",
        "        return z\n",
        "        ###TODO###  \n",
        "\n",
        "\n",
        "\n",
        "\n",
        "\n",
        "class autoencoder_over(nn.Module):\n",
        "    def __init__(self):\n",
        "        super(autoencoder_over, self).__init__()\n",
        "        ###TODO###\n",
        "        self.encoder = nn.Sequential(*[\n",
        "                                       nn.Linear(28*28, 128),\n",
        "                                       nn.ReLU(True),\n",
        "                                       nn.Linear(128, 256),\n",
        "                                       nn.ReLU(True),\n",
        "                                       nn.Linear(256, 512),\n",
        "                                       nn.ReLU(True)\n",
        "                                       ])\n",
        "        self.decoder = nn.Sequential(*[\n",
        "                                       nn.Linear(512, 256),\n",
        "                                       nn.ReLU(True),\n",
        "                                       nn.Linear(256, 128),\n",
        "                                       nn.ReLU(True),\n",
        "                                       nn.Linear(128, 28*28),\n",
        "                                       nn.Sigmoid()\n",
        "                                       ])\n",
        "\n",
        "    def forward(self, x):\n",
        "        y = self.encoder(x)\n",
        "        z = self.decoder(y)\n",
        "        return z\n",
        "\n"
      ],
      "execution_count": 33,
      "outputs": []
    },
    {
      "cell_type": "markdown",
      "metadata": {
        "id": "89IdXlF-OKMk"
      },
      "source": [
        "**Evaluation**"
      ]
    },
    {
      "cell_type": "code",
      "metadata": {
        "id": "X5b32qq_Kyve",
        "colab": {
          "base_uri": "https://localhost:8080/"
        },
        "outputId": "5beae2db-16b4-4d3c-e98c-64e44db494c9"
      },
      "source": [
        "####TODO\n",
        "learning_rate= 0.0002\n",
        "model = autoencoder()\n",
        "criterion = nn.MSELoss()    #MSE as optimization criterion failed so I used nn.BCELoss() instead. But reported errors are MSE\n",
        "optimizer = torch.optim.Adam(model.parameters(), lr=learning_rate)\n",
        "\n",
        "for epoch in range(num_epochs):\n",
        "    for data in train_loader:\n",
        "        img, _ = data\n",
        "        images = img.view(-1, 28*28).requires_grad_()\n",
        "        dropout = nn.Dropout(0.3)\n",
        "        noisy_images = dropout(torch.ones(images.shape)) * images\n",
        "\n",
        "        # ===================forward=====================\n",
        "        output = model(noisy_images)\n",
        "        loss = criterion(output, images.data)\n",
        "        # ===================backward====================\n",
        "        optimizer.zero_grad()\n",
        "        loss.backward()\n",
        "        optimizer.step()\n",
        "    # ===================log========================\n",
        "    print('epoch [{}/{}], loss:{:.4f}'\n",
        "          .format(epoch + 1, num_epochs, loss.item()))\n",
        "    if epoch % 10 == 0:\n",
        "        for data in test_loader:\n",
        "            img, _ = data\n",
        "            images = img.view(-1, 28*28).requires_grad_()\n",
        "            dropout = nn.Dropout(0.3)\n",
        "            noisy_images = dropout(torch.ones(images.shape)) * images\n",
        "\n",
        "            # ===================forward=====================\n",
        "            output = model(noisy_images)\n",
        "            loss = criterion(output, images)\n",
        "        # ===================log========================\n",
        "        print('epoch [{}/{}], loss:{:.4f}      \\\\test'\n",
        "            .format(epoch + 1, num_epochs, loss.item()))\n",
        "    # Calculate MSE Test Loss\n",
        "####TODO####"
      ],
      "execution_count": 37,
      "outputs": [
        {
          "output_type": "stream",
          "text": [
            "epoch [1/21], loss:0.6724\n",
            "epoch [1/21], loss:0.7336      \\test\n",
            "epoch [2/21], loss:0.6388\n",
            "epoch [3/21], loss:0.6481\n",
            "epoch [4/21], loss:0.6190\n",
            "epoch [5/21], loss:0.6167\n",
            "epoch [6/21], loss:0.6109\n",
            "epoch [7/21], loss:0.6298\n",
            "epoch [8/21], loss:0.6139\n",
            "epoch [9/21], loss:0.6251\n",
            "epoch [10/21], loss:0.6131\n",
            "epoch [11/21], loss:0.5906\n",
            "epoch [11/21], loss:0.6917      \\test\n",
            "epoch [12/21], loss:0.6192\n",
            "epoch [13/21], loss:0.5810\n",
            "epoch [14/21], loss:0.5910\n",
            "epoch [15/21], loss:0.6014\n",
            "epoch [16/21], loss:0.6035\n",
            "epoch [17/21], loss:0.6169\n",
            "epoch [18/21], loss:0.5982\n",
            "epoch [19/21], loss:0.6054\n",
            "epoch [20/21], loss:0.5758\n",
            "epoch [21/21], loss:0.5881\n",
            "epoch [21/21], loss:0.6810      \\test\n"
          ],
          "name": "stdout"
        }
      ]
    },
    {
      "cell_type": "markdown",
      "metadata": {
        "id": "4jMmNaHxNbMM"
      },
      "source": [
        "### Overcomplete"
      ]
    },
    {
      "cell_type": "code",
      "metadata": {
        "colab": {
          "base_uri": "https://localhost:8080/"
        },
        "id": "Y_W1d-29AUK0",
        "outputId": "e944046c-a9b5-4932-89fa-c1970692404a"
      },
      "source": [
        "####TODO\r\n",
        "learning_rate= 0.0001\r\n",
        "model = autoencoder_over()\r\n",
        "criterion = nn.MSELoss()\r\n",
        "optimizer = torch.optim.Adam(model.parameters(), lr=learning_rate)\r\n",
        "\r\n",
        "for epoch in range(num_epochs):\r\n",
        "    for data in train_loader:\r\n",
        "        img, _ = data\r\n",
        "        images = img.view(-1, 28*28).requires_grad_()\r\n",
        "        dropout = nn.Dropout(0.5)\r\n",
        "        noisy_images = dropout(torch.ones(images.shape)) * images\r\n",
        "\r\n",
        "        # ===================forward=====================\r\n",
        "        output = model(noisy_images)\r\n",
        "        loss = criterion(output, images)\r\n",
        "        # ===================backward====================\r\n",
        "        optimizer.zero_grad()\r\n",
        "        loss.backward()\r\n",
        "        optimizer.step()\r\n",
        "    # ===================log========================\r\n",
        "    print('epoch [{}/{}], loss:{:.4f}'\r\n",
        "          .format(epoch + 1, num_epochs, loss.item()))\r\n",
        "    if epoch % 10 == 0:\r\n",
        "        for data in test_loader:\r\n",
        "            img, _ = data\r\n",
        "            images = img.view(-1, 28*28).requires_grad_()\r\n",
        "            dropout = nn.Dropout(0.5)\r\n",
        "            noisy_images = dropout(torch.ones(images.shape)) * images\r\n",
        "\r\n",
        "            # ===================forward=====================\r\n",
        "            output = model(noisy_images)\r\n",
        "            loss = criterion(output, images)\r\n",
        "        # ===================log========================\r\n",
        "        print('epoch [{}/{}], loss:{:.4f}      \\\\test'\r\n",
        "            .format(epoch + 1, num_epochs, loss.item()))\r\n",
        "    # Calculate MSE Test Loss\r\n",
        "####TODO####"
      ],
      "execution_count": 38,
      "outputs": [
        {
          "output_type": "stream",
          "text": [
            "epoch [1/21], loss:0.6509\n",
            "epoch [1/21], loss:0.7147      \\test\n",
            "epoch [2/21], loss:0.6221\n",
            "epoch [3/21], loss:0.6193\n",
            "epoch [4/21], loss:0.6011\n",
            "epoch [5/21], loss:0.6225\n",
            "epoch [6/21], loss:0.5963\n",
            "epoch [7/21], loss:0.6271\n",
            "epoch [8/21], loss:0.6348\n",
            "epoch [9/21], loss:0.6125\n",
            "epoch [10/21], loss:0.6268\n",
            "epoch [11/21], loss:0.6037\n",
            "epoch [11/21], loss:0.6900      \\test\n",
            "epoch [12/21], loss:0.6112\n",
            "epoch [13/21], loss:0.5815\n",
            "epoch [14/21], loss:0.5619\n",
            "epoch [15/21], loss:0.5854\n",
            "epoch [16/21], loss:0.5871\n",
            "epoch [17/21], loss:0.6113\n",
            "epoch [18/21], loss:0.6210\n",
            "epoch [19/21], loss:0.5917\n",
            "epoch [20/21], loss:0.5779\n",
            "epoch [21/21], loss:0.5636\n",
            "epoch [21/21], loss:0.6851      \\test\n"
          ],
          "name": "stdout"
        }
      ]
    },
    {
      "cell_type": "markdown",
      "metadata": {
        "id": "Vh4rYQMOEWET"
      },
      "source": [
        "### Comparing Undercomplete and Overcomplete\r\n",
        "The results show that undercomplete is better."
      ]
    },
    {
      "cell_type": "markdown",
      "metadata": {
        "id": "_Vp_vVGsO-5L"
      },
      "source": [
        "### Regularization"
      ]
    },
    {
      "cell_type": "code",
      "metadata": {
        "colab": {
          "base_uri": "https://localhost:8080/"
        },
        "id": "fdmRcPxkLvvO",
        "outputId": "dee0b74e-390c-4c3b-a958-8c395e6b26b4"
      },
      "source": [
        "learning_rate= 0.0001\r\n",
        "model = autoencoder_over()\r\n",
        "criterion = nn.MSELoss()\r\n",
        "optimizer = torch.optim.Adam(model.parameters(), lr=learning_rate)\r\n",
        "factor = 0.00002 #lambda\r\n",
        "\r\n",
        "for epoch in range(num_epochs):\r\n",
        "    for data in train_loader:\r\n",
        "        img, _ = data\r\n",
        "        images = img.view(-1, 28*28).requires_grad_()\r\n",
        "        dropout = nn.Dropout(0.5)\r\n",
        "        noisy_images = dropout(torch.ones(images.shape)) * images\r\n",
        "\r\n",
        "        # ===================forward=====================\r\n",
        "        reg_loss = 0\r\n",
        "        for param in model.parameters():\r\n",
        "            reg_loss += torch.norm(param, 1)\r\n",
        "\r\n",
        "        output = model(noisy_images)\r\n",
        "        loss = criterion(output, images)\r\n",
        "        loss += factor * reg_loss\r\n",
        "\r\n",
        "        # ===================backward====================\r\n",
        "        optimizer.zero_grad()\r\n",
        "        loss.backward()\r\n",
        "        optimizer.step()\r\n",
        "    # ===================log========================\r\n",
        "    print('epoch [{}/{}], loss:{:.4f}'\r\n",
        "          .format(epoch + 1, num_epochs, loss.item()))\r\n",
        "    if epoch % 10 == 0:\r\n",
        "        for data in test_loader:\r\n",
        "            img, _ = data\r\n",
        "            images = img.view(-1, 28*28).requires_grad_()\r\n",
        "            dropout = nn.Dropout(0.5)\r\n",
        "            noisy_images = dropout(torch.ones(images.shape)) * images\r\n",
        "\r\n",
        "            # ===================forward=====================\r\n",
        "            output = model(noisy_images)\r\n",
        "            loss = criterion(output, images)\r\n",
        "        # ===================log========================\r\n",
        "        print('epoch [{}/{}], loss:{:.4f}      \\\\test'\r\n",
        "            .format(epoch + 1, num_epochs, loss.item()))"
      ],
      "execution_count": 39,
      "outputs": [
        {
          "output_type": "stream",
          "text": [
            "epoch [1/21], loss:0.8071\n",
            "epoch [1/21], loss:0.7273      \\test\n",
            "epoch [2/21], loss:0.7191\n",
            "epoch [3/21], loss:0.6896\n",
            "epoch [4/21], loss:0.7051\n",
            "epoch [5/21], loss:0.6777\n",
            "epoch [6/21], loss:0.6456\n",
            "epoch [7/21], loss:0.6860\n",
            "epoch [8/21], loss:0.6197\n",
            "epoch [9/21], loss:0.6496\n",
            "epoch [10/21], loss:0.6433\n",
            "epoch [11/21], loss:0.6521\n",
            "epoch [11/21], loss:0.7209      \\test\n",
            "epoch [12/21], loss:0.6409\n",
            "epoch [13/21], loss:0.6807\n",
            "epoch [14/21], loss:0.6432\n",
            "epoch [15/21], loss:0.6568\n",
            "epoch [16/21], loss:0.6299\n",
            "epoch [17/21], loss:0.6576\n",
            "epoch [18/21], loss:0.6425\n",
            "epoch [19/21], loss:0.6534\n",
            "epoch [20/21], loss:0.6603\n",
            "epoch [21/21], loss:0.6611\n",
            "epoch [21/21], loss:0.7198      \\test\n"
          ],
          "name": "stdout"
        }
      ]
    },
    {
      "cell_type": "code",
      "metadata": {
        "colab": {
          "base_uri": "https://localhost:8080/"
        },
        "id": "Qd6JTaiYmdtn",
        "outputId": "ed0dc947-ef3c-46bc-db57-75f016ba37f7"
      },
      "source": [
        "learning_rate= 0.0001\r\n",
        "model = autoencoder_over()\r\n",
        "criterion = nn.MSELoss() \r\n",
        "optimizer = torch.optim.Adam(model.parameters(), lr=learning_rate)\r\n",
        "factor = 0.00002 #lambda\r\n",
        "\r\n",
        "for epoch in range(num_epochs):\r\n",
        "    for data in train_loader:\r\n",
        "        img, _ = data\r\n",
        "        images = img.view(-1, 28*28).requires_grad_()\r\n",
        "        dropout = nn.Dropout(0.5)\r\n",
        "        noisy_images = dropout(torch.ones(images.shape)) * images\r\n",
        "\r\n",
        "        # ===================forward=====================\r\n",
        "        reg_loss = 0\r\n",
        "        for param in model.parameters():\r\n",
        "            reg_loss += torch.norm(param, 2) ** 2\r\n",
        "\r\n",
        "        output = model(noisy_images)\r\n",
        "        loss = criterion(output, images)\r\n",
        "        loss += factor * reg_loss\r\n",
        "\r\n",
        "        # ===================backward====================\r\n",
        "        optimizer.zero_grad()\r\n",
        "        loss.backward()\r\n",
        "        optimizer.step()\r\n",
        "    # ===================log========================\r\n",
        "    print('epoch [{}/{}], loss:{:.4f}'\r\n",
        "          .format(epoch + 1, num_epochs, loss.item()))\r\n",
        "    if epoch % 10 == 0:\r\n",
        "        for data in test_loader:\r\n",
        "            img, _ = data\r\n",
        "            images = img.view(-1, 28*28).requires_grad_()\r\n",
        "            dropout = nn.Dropout(0.5)\r\n",
        "            noisy_images = dropout(torch.ones(images.shape)) * images\r\n",
        "\r\n",
        "            # ===================forward=====================\r\n",
        "            output = model(noisy_images)\r\n",
        "            loss = criterion(output, images)\r\n",
        "        # ===================log========================\r\n",
        "        print('epoch [{}/{}], loss:{:.4f}      \\\\test'\r\n",
        "            .format(epoch + 1, num_epochs, loss.item()))"
      ],
      "execution_count": 40,
      "outputs": [
        {
          "output_type": "stream",
          "text": [
            "epoch [1/21], loss:0.6561\n",
            "epoch [1/21], loss:0.7140      \\test\n",
            "epoch [2/21], loss:0.6317\n",
            "epoch [3/21], loss:0.6079\n",
            "epoch [4/21], loss:0.6211\n",
            "epoch [5/21], loss:0.6151\n",
            "epoch [6/21], loss:0.6402\n",
            "epoch [7/21], loss:0.6088\n",
            "epoch [8/21], loss:0.6233\n",
            "epoch [9/21], loss:0.6049\n",
            "epoch [10/21], loss:0.6117\n",
            "epoch [11/21], loss:0.6101\n",
            "epoch [11/21], loss:0.6947      \\test\n",
            "epoch [12/21], loss:0.6054\n",
            "epoch [13/21], loss:0.5857\n",
            "epoch [14/21], loss:0.6135\n",
            "epoch [15/21], loss:0.5920\n",
            "epoch [16/21], loss:0.5998\n",
            "epoch [17/21], loss:0.6122\n",
            "epoch [18/21], loss:0.6096\n",
            "epoch [19/21], loss:0.6138\n",
            "epoch [20/21], loss:0.5961\n",
            "epoch [21/21], loss:0.6047\n",
            "epoch [21/21], loss:0.6931      \\test\n"
          ],
          "name": "stdout"
        }
      ]
    },
    {
      "cell_type": "code",
      "metadata": {
        "id": "QVMLiO-qm15i"
      },
      "source": [
        "class autoencoder_over(nn.Module):\r\n",
        "    def __init__(self):\r\n",
        "        super(autoencoder_over, self).__init__()\r\n",
        "        ###TODO###\r\n",
        "        self.encoder = nn.Sequential(*[\r\n",
        "                                       nn.Linear(28*28, 128),\r\n",
        "                                       nn.ReLU(True),\r\n",
        "                                       nn.Linear(128, 256),\r\n",
        "                                       nn.ReLU(True),\r\n",
        "                                       nn.Linear(256, 512),\r\n",
        "                                       nn.Dropout(0.2),\r\n",
        "                                       nn.ReLU(True)\r\n",
        "                                       ])\r\n",
        "        self.decoder = nn.Sequential(*[\r\n",
        "                                       nn.Linear(512, 256),\r\n",
        "                                       nn.ReLU(True),\r\n",
        "                                       nn.Linear(256, 128),\r\n",
        "                                       nn.Dropout(0.2),\r\n",
        "                                       nn.ReLU(True),\r\n",
        "                                       nn.Linear(128, 28*28),\r\n",
        "                                       nn.Sigmoid()\r\n",
        "                                       ])\r\n",
        "\r\n",
        "    def forward(self, x):\r\n",
        "        y = self.encoder(x)\r\n",
        "        z = self.decoder(y)\r\n",
        "        return z"
      ],
      "execution_count": 41,
      "outputs": []
    },
    {
      "cell_type": "code",
      "metadata": {
        "colab": {
          "base_uri": "https://localhost:8080/"
        },
        "id": "47r6yNCQpcwq",
        "outputId": "2a8587f1-6de9-4a2b-edc2-e359005e843d"
      },
      "source": [
        "####TODO\r\n",
        "learning_rate= 0.0001\r\n",
        "model = autoencoder_over()\r\n",
        "criterion = nn.MSELoss()\r\n",
        "optimizer = torch.optim.Adam(model.parameters(), lr=learning_rate)\r\n",
        "\r\n",
        "for epoch in range(num_epochs):\r\n",
        "    for data in train_loader:\r\n",
        "        img, _ = data\r\n",
        "        images = img.view(-1, 28*28).requires_grad_()\r\n",
        "        dropout = nn.Dropout(0.5)\r\n",
        "        noisy_images = dropout(torch.ones(images.shape)) * images\r\n",
        "\r\n",
        "        # ===================forward=====================\r\n",
        "        output = model(noisy_images)\r\n",
        "        loss = criterion(output, images)\r\n",
        "        # ===================backward====================\r\n",
        "        optimizer.zero_grad()\r\n",
        "        loss.backward()\r\n",
        "        optimizer.step()\r\n",
        "    # ===================log========================\r\n",
        "    print('epoch [{}/{}], loss:{:.4f}'\r\n",
        "          .format(epoch + 1, num_epochs, loss.item()))\r\n",
        "    if epoch % 10 == 0:\r\n",
        "        for data in test_loader:\r\n",
        "            img, _ = data\r\n",
        "            images = img.view(-1, 28*28).requires_grad_()\r\n",
        "            dropout = nn.Dropout(0.5)\r\n",
        "            noisy_images = dropout(torch.ones(images.shape)) * images\r\n",
        "\r\n",
        "            # ===================forward=====================\r\n",
        "            output = model(noisy_images)\r\n",
        "            loss = criterion(output, images)\r\n",
        "        # ===================log========================\r\n",
        "        print('epoch [{}/{}], loss:{:.4f}      \\\\test'\r\n",
        "            .format(epoch + 1, num_epochs, loss.item()))\r\n",
        "    # Calculate MSE Test Loss\r\n",
        "####TODO####"
      ],
      "execution_count": 42,
      "outputs": [
        {
          "output_type": "stream",
          "text": [
            "epoch [1/21], loss:0.6525\n",
            "epoch [1/21], loss:0.7266      \\test\n",
            "epoch [2/21], loss:0.6639\n",
            "epoch [3/21], loss:0.6348\n",
            "epoch [4/21], loss:0.6170\n",
            "epoch [5/21], loss:0.6269\n",
            "epoch [6/21], loss:0.6111\n",
            "epoch [7/21], loss:0.6137\n",
            "epoch [8/21], loss:0.5823\n",
            "epoch [9/21], loss:0.6188\n",
            "epoch [10/21], loss:0.6112\n",
            "epoch [11/21], loss:0.6128\n",
            "epoch [11/21], loss:0.6955      \\test\n",
            "epoch [12/21], loss:0.6113\n",
            "epoch [13/21], loss:0.6144\n",
            "epoch [14/21], loss:0.6331\n",
            "epoch [15/21], loss:0.6159\n",
            "epoch [16/21], loss:0.5711\n",
            "epoch [17/21], loss:0.6169\n",
            "epoch [18/21], loss:0.6216\n",
            "epoch [19/21], loss:0.6061\n",
            "epoch [20/21], loss:0.5970\n",
            "epoch [21/21], loss:0.5905\n",
            "epoch [21/21], loss:0.6904      \\test\n"
          ],
          "name": "stdout"
        }
      ]
    },
    {
      "cell_type": "markdown",
      "metadata": {
        "id": "fpghTdeOqn2Y"
      },
      "source": [
        "Above results show that Dropout has the best effect on the network.(According to TEST loss)\r\n",
        "\r\n",
        "Note that train losses shouldn't be compared because they're from different functions.\r\n"
      ]
    },
    {
      "cell_type": "markdown",
      "metadata": {
        "id": "PiS56nh9NUen"
      },
      "source": [
        "NOTE: add your explanation after each part "
      ]
    },
    {
      "cell_type": "code",
      "metadata": {
        "id": "tf-OVH75QAac",
        "colab": {
          "base_uri": "https://localhost:8080/",
          "height": 387
        },
        "outputId": "c17d4b30-2103-4c16-e602-724b86ea51c1"
      },
      "source": [
        "###Now compare the noisy and denoised version of the Fasiohn MNIST(visually)###\n",
        "####TODO\n",
        "m = 5\n",
        "for data in train_loader:\n",
        "    img, _ = data\n",
        "    images = img.view(-1, 28*28)\n",
        "    dropout = nn.Dropout(0.4)\n",
        "    noisy_images = dropout(torch.ones(images.shape)) * images\n",
        "    #noisy_images = torch.tensor(np.random.normal(0,0.2, images.shape)).float() + images\n",
        "    # ===================forward=====================\n",
        "    output = model(noisy_images)\n",
        "    fig = plt.figure(figsize=figsize)\n",
        "    for i in range(m):\n",
        "        fig.add_subplot(m, 3, (i+1) * 3 - 2)\n",
        "        plt.imshow(images[i].view(28, 28))\n",
        "        if i == 0:\n",
        "            plt.title(\"Input Img\", color=\"red\")\n",
        "        fig.add_subplot(m, 3, (i+1) * 3 - 1)\n",
        "        plt.imshow(noisy_images[i].view(28, 28).detach())\n",
        "        if i == 0:\n",
        "            plt.title(\"Noisy Img\", color=\"red\")\n",
        "        fig.add_subplot(m, 3, (i+1) * 3)\n",
        "        plt.imshow(output[i].view(28, 28).detach())\n",
        "        if i == 0:\n",
        "            plt.title(\"Recovered Img\", color=\"red\")\n",
        "    break\n",
        "        "
      ],
      "execution_count": 48,
      "outputs": [
        {
          "output_type": "display_data",
          "data": {
            "image/png": "[encoded data removed]",
            "text/plain": [
              "<Figure size 1080x432 with 15 Axes>"
            ]
          },
          "metadata": {
            "tags": [],
            "needs_background": "light"
          }
        }
      ]
    }
  ]
}